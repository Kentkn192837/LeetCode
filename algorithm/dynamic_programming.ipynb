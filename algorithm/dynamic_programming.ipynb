{
 "cells": [
  {
   "cell_type": "code",
   "execution_count": 1,
   "id": "8d87a1b8-37e0-4219-b00c-eb45236611a8",
   "metadata": {},
   "outputs": [],
   "source": [
    "# 動的計画法の実行例\n",
    "# 一度計算した結果を記憶領域に保存して再利用する方法\n",
    "def fibonacci_sequence(n):\n",
    "    A = [0, 1]\n",
    "    for i in range(2, n + 1):\n",
    "        A.append( A[i - 1] + A[i - 2] )\n",
    "    return A[i]"
   ]
  },
  {
   "cell_type": "code",
   "execution_count": 2,
   "id": "482f9cd3-28f5-42e9-b225-134754dc0def",
   "metadata": {},
   "outputs": [
    {
     "name": "stdout",
     "output_type": "stream",
     "text": [
      "fibonacci_sequence:  9227465\n",
      "calc_time:  0.0 [s]\n"
     ]
    }
   ],
   "source": [
    "import time\n",
    "start = time.time()\n",
    "fib = fibonacci_sequence(35)\n",
    "end = time.time() - start\n",
    "print(\"fibonacci_sequence: \", fib)\n",
    "print(\"calc_time: \", end, \"[s]\")"
   ]
  }
 ],
 "metadata": {
  "kernelspec": {
   "display_name": "Python 3",
   "language": "python",
   "name": "python3"
  },
  "language_info": {
   "codemirror_mode": {
    "name": "ipython",
    "version": 3
   },
   "file_extension": ".py",
   "mimetype": "text/x-python",
   "name": "python",
   "nbconvert_exporter": "python",
   "pygments_lexer": "ipython3",
   "version": "3.8.5"
  }
 },
 "nbformat": 4,
 "nbformat_minor": 5
}
