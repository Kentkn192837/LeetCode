{
 "cells": [
  {
   "cell_type": "markdown",
   "id": "0bd4ba90-5f4a-4943-9d53-6c8860dd17e5",
   "metadata": {},
   "source": [
    "# 順列生成"
   ]
  },
  {
   "cell_type": "code",
   "execution_count": 1,
   "id": "5f948294-cc93-4a01-af9f-e6b377d25e58",
   "metadata": {},
   "outputs": [],
   "source": [
    "def factorial(n):\n",
    "    calced = [1, 1]\n",
    "    if n < 0:\n",
    "        print(\"0以上の値を入力してください\")\n",
    "        return\n",
    "    if n <= 1:\n",
    "        return calced[n]\n",
    "    for i in range(2, n + 1):\n",
    "        calced.append(calced[-1] * i)\n",
    "    return calced, calced[n]"
   ]
  },
  {
   "cell_type": "code",
   "execution_count": 2,
   "id": "9e406905-37bb-4e2d-be3c-0c217cc82f9f",
   "metadata": {},
   "outputs": [
    {
     "data": {
      "text/plain": [
       "[1,\n",
       " 1,\n",
       " 2,\n",
       " 6,\n",
       " 24,\n",
       " 120,\n",
       " 720,\n",
       " 5040,\n",
       " 40320,\n",
       " 362880,\n",
       " 3628800,\n",
       " 39916800,\n",
       " 479001600,\n",
       " 6227020800,\n",
       " 87178291200,\n",
       " 1307674368000,\n",
       " 20922789888000,\n",
       " 355687428096000,\n",
       " 6402373705728000,\n",
       " 121645100408832000,\n",
       " 2432902008176640000,\n",
       " 51090942171709440000,\n",
       " 1124000727777607680000,\n",
       " 25852016738884976640000,\n",
       " 620448401733239439360000,\n",
       " 15511210043330985984000000,\n",
       " 403291461126605635584000000,\n",
       " 10888869450418352160768000000,\n",
       " 304888344611713860501504000000,\n",
       " 8841761993739701954543616000000,\n",
       " 265252859812191058636308480000000]"
      ]
     },
     "execution_count": 2,
     "metadata": {},
     "output_type": "execute_result"
    }
   ],
   "source": [
    "calced_list, result = factorial(30)\n",
    "calced_list"
   ]
  },
  {
   "cell_type": "code",
   "execution_count": 3,
   "id": "fc08df28-7c99-4bbd-a2ef-909356191747",
   "metadata": {},
   "outputs": [
    {
     "data": {
      "text/plain": [
       "[1,\n",
       " 1,\n",
       " 2,\n",
       " 6,\n",
       " 24,\n",
       " 120,\n",
       " 720,\n",
       " 5040,\n",
       " 40320,\n",
       " 362880,\n",
       " 3628800,\n",
       " 39916800,\n",
       " 479001600,\n",
       " 227020758,\n",
       " 178290591,\n",
       " 674358851,\n",
       " 789741546,\n",
       " 425606191,\n",
       " 660911389,\n",
       " 557316307,\n",
       " 146326063,\n",
       " 72847302,\n",
       " 602640637,\n",
       " 860734560,\n",
       " 657629300,\n",
       " 440732388,\n",
       " 459042011,\n",
       " 394134213,\n",
       " 35757887,\n",
       " 36978716,\n",
       " 109361473]"
      ]
     },
     "execution_count": 3,
     "metadata": {},
     "output_type": "execute_result"
    }
   ],
   "source": [
    "def mod_factorial(n):\n",
    "    MOD = 10**9+7\n",
    "    fact = [1]\n",
    "    for i in range(1,n + 1):\n",
    "        fact.append(fact[-1]*i % MOD)\n",
    "    return fact\n",
    "mod_factorial(30)"
   ]
  }
 ],
 "metadata": {
  "kernelspec": {
   "display_name": "Python 3",
   "language": "python",
   "name": "python3"
  },
  "language_info": {
   "codemirror_mode": {
    "name": "ipython",
    "version": 3
   },
   "file_extension": ".py",
   "mimetype": "text/x-python",
   "name": "python",
   "nbconvert_exporter": "python",
   "pygments_lexer": "ipython3",
   "version": "3.8.5"
  }
 },
 "nbformat": 4,
 "nbformat_minor": 5
}
