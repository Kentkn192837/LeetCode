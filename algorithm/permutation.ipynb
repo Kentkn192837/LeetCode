{
 "cells": [
  {
   "cell_type": "markdown",
   "id": "0bd4ba90-5f4a-4943-9d53-6c8860dd17e5",
   "metadata": {},
   "source": [
    "# 順列生成"
   ]
  },
  {
   "cell_type": "code",
   "execution_count": 1,
   "id": "5f948294-cc93-4a01-af9f-e6b377d25e58",
   "metadata": {},
   "outputs": [],
   "source": [
    "def factorial(n):\n",
    "    calced = [1, 1]\n",
    "    if n < 0:\n",
    "        print(\"0以上の値を入力してください\")\n",
    "        return\n",
    "    if n <= 1:\n",
    "        return calced[n]\n",
    "    for i in range(2, n + 1):\n",
    "        calced.append(calced[-1] * i)\n",
    "    return calced, calced[n]"
   ]
  },
  {
   "cell_type": "code",
   "execution_count": 2,
   "id": "9e406905-37bb-4e2d-be3c-0c217cc82f9f",
   "metadata": {},
   "outputs": [
    {
     "data": {
      "text/plain": [
       "[1, 1, 2, 6, 24, 120, 720, 5040, 40320]"
      ]
     },
     "execution_count": 2,
     "metadata": {},
     "output_type": "execute_result"
    }
   ],
   "source": [
    "calced_list, result = factorial(8)\n",
    "calced_list"
   ]
  }
 ],
 "metadata": {
  "kernelspec": {
   "display_name": "Python 3",
   "language": "python",
   "name": "python3"
  },
  "language_info": {
   "codemirror_mode": {
    "name": "ipython",
    "version": 3
   },
   "file_extension": ".py",
   "mimetype": "text/x-python",
   "name": "python",
   "nbconvert_exporter": "python",
   "pygments_lexer": "ipython3",
   "version": "3.8.5"
  }
 },
 "nbformat": 4,
 "nbformat_minor": 5
}
