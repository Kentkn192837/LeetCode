{
 "cells": [
  {
   "cell_type": "code",
   "execution_count": 1,
   "id": "a9c4fc6b-3d9d-4950-8e9e-e8bf067ef42d",
   "metadata": {},
   "outputs": [],
   "source": [
    "# 分割統治法の実行例\n",
    "# 大きい入力値に対する問題を解くために、必要となった小さい入力値に対する問題を解く方法\n",
    "def fibonacci_sequence(n):\n",
    "    if n < 2:\n",
    "        return n\n",
    "    else:\n",
    "        a = fibonacci_sequence(n - 1)\n",
    "        b = fibonacci_sequence(n - 2)\n",
    "        c = a + b\n",
    "        return c"
   ]
  },
  {
   "cell_type": "code",
   "execution_count": 2,
   "id": "3594abe8-fa9a-4079-9ae3-a5e4cc3e1f92",
   "metadata": {},
   "outputs": [
    {
     "data": {
      "text/plain": [
       "5"
      ]
     },
     "execution_count": 2,
     "metadata": {},
     "output_type": "execute_result"
    }
   ],
   "source": [
    "fibonacci_sequence(5)"
   ]
  },
  {
   "cell_type": "code",
   "execution_count": 3,
   "id": "a7dd06f8-1733-4857-ad11-558dab66e0c3",
   "metadata": {},
   "outputs": [
    {
     "name": "stdout",
     "output_type": "stream",
     "text": [
      "fibonacci_sequence:  9227465\n",
      "calc_time:  3.6299943923950195 [s]\n"
     ]
    }
   ],
   "source": [
    "import time\n",
    "start = time.time()\n",
    "fib = fibonacci_sequence(35)\n",
    "end = time.time() - start\n",
    "print(\"fibonacci_sequence: \", fib)\n",
    "print(\"calc_time: \", end, \"[s]\")"
   ]
  }
 ],
 "metadata": {
  "kernelspec": {
   "display_name": "Python 3",
   "language": "python",
   "name": "python3"
  },
  "language_info": {
   "codemirror_mode": {
    "name": "ipython",
    "version": 3
   },
   "file_extension": ".py",
   "mimetype": "text/x-python",
   "name": "python",
   "nbconvert_exporter": "python",
   "pygments_lexer": "ipython3",
   "version": "3.8.5"
  }
 },
 "nbformat": 4,
 "nbformat_minor": 5
}
